{
 "cells": [
  {
   "cell_type": "code",
   "execution_count": 1,
   "metadata": {},
   "outputs": [],
   "source": [
    "import os\n",
    "import sys\n",
    "mrgan_lib_path = os.path.abspath('../')\n",
    "if mrgan_lib_path not in sys.path:\n",
    "    sys.path.insert(0, mrgan_lib_path)"
   ]
  },
  {
   "cell_type": "code",
   "execution_count": 2,
   "metadata": {},
   "outputs": [],
   "source": [
    "import numpy as np\n",
    "import math\n",
    "from datetime import datetime\n",
    "import time\n",
    "import yaml\n",
    "import GPUtil\n",
    "\n",
    "import torchvision.transforms as transforms\n",
    "from torchvision.utils import save_image, make_grid\n",
    "\n",
    "from torch.utils.data import DataLoader\n",
    "from torchvision import datasets\n",
    "from torch.autograd import Variable\n",
    "\n",
    "import torch.nn as nn\n",
    "import torch.nn.functional as F\n",
    "import torch.autograd as autograd\n",
    "import torch\n",
    "\n",
    "from tensorboardX import SummaryWriter\n",
    "from torchsummary import summary\n",
    "\n",
    "from fid.inception import InceptionV3\n",
    "from fid.fid_score import calculate_frechet_distance\n",
    "from build_dataset_fid_stats import get_activation, get_activations, get_stats\n",
    "from wgan_gp_mod import mask_gpu, seed_everything, View, Generator, Discriminator, GeneratorMRSampler, compute_gradient_penalty\n"
   ]
  },
  {
   "cell_type": "code",
   "execution_count": 3,
   "metadata": {},
   "outputs": [],
   "source": [
    "mask_gpu()\n",
    "seed_everything()"
   ]
  },
  {
   "cell_type": "code",
   "execution_count": 4,
   "metadata": {},
   "outputs": [],
   "source": [
    "latent_dim = 128\n",
    "n_channels = 3\n",
    "mr = False\n",
    "mrt = 0\n",
    "mrt_decay = 0.02\n",
    "bsize = 64\n",
    "lr = 0.00005\n",
    "b1 = 0.5\n",
    "b2 = 0.9\n",
    "metric_interval = 10\n",
    "gp = 10"
   ]
  },
  {
   "cell_type": "code",
   "execution_count": 5,
   "metadata": {},
   "outputs": [],
   "source": [
    "device = torch.device('cuda' if torch.cuda.is_available() else 'cpu')"
   ]
  },
  {
   "cell_type": "code",
   "execution_count": 6,
   "metadata": {},
   "outputs": [],
   "source": [
    "with np.load('../cifar10-train.npz') as f:\n",
    "    real_features = f['features'][:]\n",
    "    real_mu = f['mu'][:]\n",
    "    real_sigma = f['sigma'][:]"
   ]
  },
  {
   "cell_type": "code",
   "execution_count": 7,
   "metadata": {},
   "outputs": [],
   "source": [
    "generator = Generator(latent_dim=latent_dim, n_channels=n_channels).to(device=device)\n",
    "discriminator = Discriminator(latent_dim=latent_dim, n_channels=n_channels).to(device=device)\n",
    "gs = GeneratorMRSampler(generator, mr, mrt, mrt_decay, latent_dim, device, \n",
    "                        real_features, bsize=bsize)"
   ]
  },
  {
   "cell_type": "code",
   "execution_count": 8,
   "metadata": {},
   "outputs": [
    {
     "name": "stdout",
     "output_type": "stream",
     "text": [
      "Files already downloaded and verified\n"
     ]
    }
   ],
   "source": [
    "dataloader = torch.utils.data.DataLoader(\n",
    "    datasets.CIFAR10(\n",
    "        '../data/cifar10/',\n",
    "        train=True,\n",
    "        download=True,\n",
    "        transform=transforms.Compose(\n",
    "            [transforms.ToTensor(), transforms.Normalize([0.5] * n_channels, [0.5] * n_channels)]\n",
    "        ),\n",
    "    ),\n",
    "    batch_size=bsize,\n",
    "    shuffle=True\n",
    ")"
   ]
  },
  {
   "cell_type": "code",
   "execution_count": 9,
   "metadata": {},
   "outputs": [],
   "source": [
    "optimizer_G = torch.optim.Adam(generator.parameters(), lr=lr, betas=(b1, b2))\n",
    "optimizer_D = torch.optim.Adam(discriminator.parameters(), lr=lr, betas=(b1, b2))"
   ]
  },
  {
   "cell_type": "markdown",
   "metadata": {},
   "source": [
    "#### checkout how low can d_loss go when generator is frozen\n",
    "here z is still randomly sampled, can try one hot encoded next time"
   ]
  },
  {
   "cell_type": "code",
   "execution_count": 10,
   "metadata": {},
   "outputs": [],
   "source": [
    "for p in generator.parameters():\n",
    "    p.requires_grad = False"
   ]
  },
  {
   "cell_type": "code",
   "execution_count": 11,
   "metadata": {},
   "outputs": [
    {
     "name": "stdout",
     "output_type": "stream",
     "text": [
      "2020/10/25 23:40:57 [Epoch 0/100] [D loss: -74.34603881835938]\n",
      "2020/10/25 23:41:48 [Epoch 1/100] [D loss: -82.06684875488281]\n",
      "2020/10/25 23:42:39 [Epoch 2/100] [D loss: -80.75245666503906]\n",
      "2020/10/25 23:43:30 [Epoch 3/100] [D loss: -80.61589050292969]\n",
      "2020/10/25 23:44:22 [Epoch 4/100] [D loss: -77.28385925292969]\n",
      "2020/10/25 23:45:13 [Epoch 5/100] [D loss: -77.6722640991211]\n",
      "2020/10/25 23:46:04 [Epoch 6/100] [D loss: -81.14707946777344]\n",
      "2020/10/25 23:46:55 [Epoch 7/100] [D loss: -81.10869598388672]\n",
      "2020/10/25 23:47:47 [Epoch 8/100] [D loss: -82.03437805175781]\n",
      "2020/10/25 23:48:38 [Epoch 9/100] [D loss: -82.161376953125]\n",
      "2020/10/25 23:49:29 [Epoch 10/100] [D loss: -83.08537292480469]\n",
      "2020/10/25 23:50:20 [Epoch 11/100] [D loss: -80.5157699584961]\n",
      "2020/10/25 23:51:12 [Epoch 12/100] [D loss: -75.40199279785156]\n",
      "2020/10/25 23:52:03 [Epoch 13/100] [D loss: -90.34788513183594]\n",
      "2020/10/25 23:52:54 [Epoch 14/100] [D loss: -82.6585922241211]\n",
      "2020/10/25 23:53:45 [Epoch 15/100] [D loss: -85.21891784667969]\n",
      "2020/10/25 23:54:37 [Epoch 16/100] [D loss: -87.20054626464844]\n",
      "2020/10/25 23:55:28 [Epoch 17/100] [D loss: -82.48033905029297]\n",
      "2020/10/25 23:56:19 [Epoch 18/100] [D loss: -86.75940704345703]\n",
      "2020/10/25 23:57:11 [Epoch 19/100] [D loss: -81.2548828125]\n",
      "2020/10/25 23:58:02 [Epoch 20/100] [D loss: -80.90770721435547]\n",
      "2020/10/25 23:58:53 [Epoch 21/100] [D loss: -82.71353149414062]\n",
      "2020/10/26 00:00:36 [Epoch 23/100] [D loss: -83.92022705078125]\n",
      "2020/10/26 00:01:27 [Epoch 24/100] [D loss: -82.18927001953125]\n",
      "2020/10/26 00:02:19 [Epoch 25/100] [D loss: -82.86448669433594]\n",
      "2020/10/26 00:03:10 [Epoch 26/100] [D loss: -80.57604217529297]\n",
      "2020/10/26 00:04:01 [Epoch 27/100] [D loss: -92.10071563720703]\n",
      "2020/10/26 00:04:53 [Epoch 28/100] [D loss: -80.88893127441406]\n",
      "2020/10/26 00:05:44 [Epoch 29/100] [D loss: -85.48161315917969]\n",
      "2020/10/26 00:06:35 [Epoch 30/100] [D loss: -84.06913757324219]\n",
      "2020/10/26 00:07:27 [Epoch 31/100] [D loss: -86.03706359863281]\n",
      "2020/10/26 00:08:18 [Epoch 32/100] [D loss: -86.40214538574219]\n",
      "2020/10/26 00:09:09 [Epoch 33/100] [D loss: -84.74535369873047]\n",
      "2020/10/26 00:10:01 [Epoch 34/100] [D loss: -86.02598571777344]\n",
      "2020/10/26 00:10:52 [Epoch 35/100] [D loss: -84.36673736572266]\n",
      "2020/10/26 00:11:43 [Epoch 36/100] [D loss: -86.080810546875]\n",
      "2020/10/26 00:12:35 [Epoch 37/100] [D loss: -90.7040786743164]\n",
      "2020/10/26 00:13:26 [Epoch 38/100] [D loss: -80.58966064453125]\n",
      "2020/10/26 00:14:17 [Epoch 39/100] [D loss: -92.69684600830078]\n",
      "2020/10/26 00:15:09 [Epoch 40/100] [D loss: -87.10527801513672]\n",
      "2020/10/26 00:16:00 [Epoch 41/100] [D loss: -85.68496704101562]\n",
      "2020/10/26 00:16:51 [Epoch 42/100] [D loss: -86.61392211914062]\n",
      "2020/10/26 00:17:43 [Epoch 43/100] [D loss: -79.67243957519531]\n",
      "2020/10/26 00:18:34 [Epoch 44/100] [D loss: -86.6592788696289]\n",
      "2020/10/26 00:19:25 [Epoch 45/100] [D loss: -87.79595947265625]\n",
      "2020/10/26 00:20:17 [Epoch 46/100] [D loss: -78.38154602050781]\n",
      "2020/10/26 00:21:08 [Epoch 47/100] [D loss: -84.26078796386719]\n",
      "2020/10/26 00:21:59 [Epoch 48/100] [D loss: -87.43449401855469]\n",
      "2020/10/26 00:22:51 [Epoch 49/100] [D loss: -83.28915405273438]\n",
      "2020/10/26 00:23:42 [Epoch 50/100] [D loss: -82.7212142944336]\n",
      "2020/10/26 00:24:34 [Epoch 51/100] [D loss: -81.135498046875]\n",
      "2020/10/26 00:25:25 [Epoch 52/100] [D loss: -91.68926239013672]\n",
      "2020/10/26 00:26:16 [Epoch 53/100] [D loss: -84.64997100830078]\n",
      "2020/10/26 00:27:08 [Epoch 54/100] [D loss: -79.51166534423828]\n",
      "2020/10/26 00:27:59 [Epoch 55/100] [D loss: -83.7396240234375]\n",
      "2020/10/26 00:28:50 [Epoch 56/100] [D loss: -82.90550994873047]\n",
      "2020/10/26 00:29:42 [Epoch 57/100] [D loss: -82.0091552734375]\n",
      "2020/10/26 00:30:33 [Epoch 58/100] [D loss: -83.52279663085938]\n",
      "2020/10/26 00:31:25 [Epoch 59/100] [D loss: -84.29873657226562]\n",
      "2020/10/26 00:32:16 [Epoch 60/100] [D loss: -86.510986328125]\n",
      "2020/10/26 00:33:07 [Epoch 61/100] [D loss: -79.71446228027344]\n",
      "2020/10/26 00:33:59 [Epoch 62/100] [D loss: -80.42353820800781]\n",
      "2020/10/26 00:34:50 [Epoch 63/100] [D loss: -78.69860076904297]\n",
      "2020/10/26 00:35:42 [Epoch 64/100] [D loss: -80.56596374511719]\n",
      "2020/10/26 00:36:33 [Epoch 65/100] [D loss: -81.47272491455078]\n",
      "2020/10/26 00:37:24 [Epoch 66/100] [D loss: -84.62501525878906]\n",
      "2020/10/26 00:38:16 [Epoch 67/100] [D loss: -81.4222640991211]\n",
      "2020/10/26 00:39:07 [Epoch 68/100] [D loss: -85.63575744628906]\n",
      "2020/10/26 00:39:58 [Epoch 69/100] [D loss: -86.51699829101562]\n",
      "2020/10/26 00:40:50 [Epoch 70/100] [D loss: -89.33616638183594]\n",
      "2020/10/26 00:41:41 [Epoch 71/100] [D loss: -80.90900421142578]\n",
      "2020/10/26 00:42:32 [Epoch 72/100] [D loss: -80.23123168945312]\n",
      "2020/10/26 00:43:24 [Epoch 73/100] [D loss: -84.49623107910156]\n",
      "2020/10/26 00:44:15 [Epoch 74/100] [D loss: -87.65642547607422]\n",
      "2020/10/26 00:45:07 [Epoch 75/100] [D loss: -83.29814147949219]\n",
      "2020/10/26 00:45:58 [Epoch 76/100] [D loss: -87.41941833496094]\n",
      "2020/10/26 00:46:49 [Epoch 77/100] [D loss: -86.84315490722656]\n",
      "2020/10/26 00:47:41 [Epoch 78/100] [D loss: -84.38365173339844]\n",
      "2020/10/26 00:48:32 [Epoch 79/100] [D loss: -81.87659454345703]\n",
      "2020/10/26 00:49:24 [Epoch 80/100] [D loss: -80.27223205566406]\n",
      "2020/10/26 00:50:15 [Epoch 81/100] [D loss: -81.32574462890625]\n",
      "2020/10/26 00:51:06 [Epoch 82/100] [D loss: -85.00038146972656]\n",
      "2020/10/26 00:51:58 [Epoch 83/100] [D loss: -77.14337921142578]\n",
      "2020/10/26 00:52:49 [Epoch 84/100] [D loss: -86.02384948730469]\n",
      "2020/10/26 00:53:41 [Epoch 85/100] [D loss: -82.21049499511719]\n",
      "2020/10/26 00:54:32 [Epoch 86/100] [D loss: -87.38693237304688]\n",
      "2020/10/26 00:55:24 [Epoch 87/100] [D loss: -87.98214721679688]\n",
      "2020/10/26 00:56:15 [Epoch 88/100] [D loss: -82.4715576171875]\n",
      "2020/10/26 00:57:06 [Epoch 89/100] [D loss: -87.1129150390625]\n",
      "2020/10/26 00:57:58 [Epoch 90/100] [D loss: -77.21961975097656]\n",
      "2020/10/26 00:58:49 [Epoch 91/100] [D loss: -86.78797149658203]\n",
      "2020/10/26 00:59:41 [Epoch 92/100] [D loss: -86.16332244873047]\n",
      "2020/10/26 01:00:32 [Epoch 93/100] [D loss: -87.33709716796875]\n",
      "2020/10/26 01:01:24 [Epoch 94/100] [D loss: -78.65753173828125]\n",
      "2020/10/26 01:02:15 [Epoch 95/100] [D loss: -83.46073913574219]\n",
      "2020/10/26 01:03:07 [Epoch 96/100] [D loss: -81.42390441894531]\n",
      "2020/10/26 01:03:58 [Epoch 97/100] [D loss: -79.77610778808594]\n",
      "2020/10/26 01:04:49 [Epoch 98/100] [D loss: -78.02680969238281]\n",
      "2020/10/26 01:05:41 [Epoch 99/100] [D loss: -78.82342529296875]\n"
     ]
    }
   ],
   "source": [
    "d_losses = []\n",
    "n_epochs = 100\n",
    "for epoch in range(n_epochs):\n",
    "            \n",
    "        gs.reset_running_stats()\n",
    "\n",
    "        for i, (imgs, _) in enumerate(dataloader):\n",
    "\n",
    "            optimizer_D.zero_grad()\n",
    "\n",
    "            real_imgs = Variable(imgs).to(device)\n",
    "            z = next(gs)[:real_imgs.shape[0]]\n",
    "            fake_imgs = generator(z)\n",
    "\n",
    "            real_validity = discriminator(real_imgs)\n",
    "            fake_validity = discriminator(fake_imgs)\n",
    "            gradient_penalty = compute_gradient_penalty(discriminator, real_imgs.data, \n",
    "                                                        fake_imgs.data, device=device)\n",
    "            d_loss = -torch.mean(real_validity) + torch.mean(fake_validity) + gp * gradient_penalty\n",
    "\n",
    "            d_loss.backward()\n",
    "            optimizer_D.step()\n",
    "        timestamp_now = datetime.now().strftime('%Y/%m/%d %H:%M:%S')\n",
    "        print_str = f\"{timestamp_now} [Epoch {epoch}/{n_epochs}] [D loss: {d_loss.item()}]\"\n",
    "        d_losses.append(d_loss.item())\n",
    "        print(print_str)"
   ]
  },
  {
   "cell_type": "markdown",
   "metadata": {},
   "source": [
    "#### now train generator"
   ]
  },
  {
   "cell_type": "code",
   "execution_count": 12,
   "metadata": {},
   "outputs": [],
   "source": [
    "for p in generator.parameters():\n",
    "    p.requires_grad = True\n",
    "for p in discriminator.parameters():\n",
    "    p.requires_grad = False"
   ]
  },
  {
   "cell_type": "code",
   "execution_count": 13,
   "metadata": {},
   "outputs": [
    {
     "name": "stdout",
     "output_type": "stream",
     "text": [
      "2020/10/26 09:34:41 [Epoch 0/100] [G loss: -69.23812866210938]\n",
      "2020/10/26 09:35:22 [Epoch 1/100] [G loss: -69.53811645507812]\n",
      "2020/10/26 09:36:02 [Epoch 2/100] [G loss: -69.73975372314453]\n",
      "2020/10/26 09:36:43 [Epoch 3/100] [G loss: -69.75498962402344]\n",
      "2020/10/26 09:37:24 [Epoch 4/100] [G loss: -69.76467895507812]\n",
      "2020/10/26 09:38:05 [Epoch 5/100] [G loss: -69.76841735839844]\n",
      "2020/10/26 09:38:46 [Epoch 6/100] [G loss: -69.7635498046875]\n",
      "2020/10/26 09:39:27 [Epoch 7/100] [G loss: -69.77481079101562]\n",
      "2020/10/26 09:40:08 [Epoch 8/100] [G loss: -69.77439880371094]\n",
      "2020/10/26 09:40:49 [Epoch 9/100] [G loss: -69.7738037109375]\n",
      "2020/10/26 09:41:29 [Epoch 10/100] [G loss: -69.77432250976562]\n",
      "2020/10/26 09:42:10 [Epoch 11/100] [G loss: -69.77925109863281]\n",
      "2020/10/26 09:42:51 [Epoch 12/100] [G loss: -69.77921295166016]\n",
      "2020/10/26 09:43:32 [Epoch 13/100] [G loss: -69.78125]\n",
      "2020/10/26 09:44:13 [Epoch 14/100] [G loss: -69.77803039550781]\n",
      "2020/10/26 09:44:54 [Epoch 15/100] [G loss: -69.78118896484375]\n",
      "2020/10/26 09:45:35 [Epoch 16/100] [G loss: -69.77806091308594]\n",
      "2020/10/26 09:46:16 [Epoch 17/100] [G loss: -69.7810287475586]\n",
      "2020/10/26 09:48:59 [Epoch 21/100] [G loss: -69.78276062011719]\n",
      "2020/10/26 09:49:40 [Epoch 22/100] [G loss: -69.782470703125]\n",
      "2020/10/26 09:50:21 [Epoch 23/100] [G loss: -69.78224182128906]\n",
      "2020/10/26 09:51:02 [Epoch 24/100] [G loss: -69.78475952148438]\n",
      "2020/10/26 09:51:43 [Epoch 25/100] [G loss: -69.7843017578125]\n",
      "2020/10/26 09:52:24 [Epoch 26/100] [G loss: -69.78359985351562]\n",
      "2020/10/26 09:53:05 [Epoch 27/100] [G loss: -69.783203125]\n",
      "2020/10/26 09:53:45 [Epoch 28/100] [G loss: -69.78399658203125]\n",
      "2020/10/26 09:54:26 [Epoch 29/100] [G loss: -69.78472137451172]\n",
      "2020/10/26 09:55:07 [Epoch 30/100] [G loss: -69.78338623046875]\n",
      "2020/10/26 09:55:48 [Epoch 31/100] [G loss: -69.78389739990234]\n",
      "2020/10/26 09:56:29 [Epoch 32/100] [G loss: -69.7845458984375]\n",
      "2020/10/26 09:57:10 [Epoch 33/100] [G loss: -69.78515625]\n",
      "2020/10/26 09:57:51 [Epoch 34/100] [G loss: -69.78628540039062]\n",
      "2020/10/26 09:58:32 [Epoch 35/100] [G loss: -69.78655242919922]\n",
      "2020/10/26 09:59:13 [Epoch 36/100] [G loss: -69.78388977050781]\n",
      "2020/10/26 09:59:54 [Epoch 37/100] [G loss: -69.78524017333984]\n",
      "2020/10/26 10:00:34 [Epoch 38/100] [G loss: -69.78659057617188]\n",
      "2020/10/26 10:01:15 [Epoch 39/100] [G loss: -69.78541564941406]\n",
      "2020/10/26 10:01:56 [Epoch 40/100] [G loss: -69.78706359863281]\n",
      "2020/10/26 10:02:37 [Epoch 41/100] [G loss: -69.78585815429688]\n",
      "2020/10/26 10:03:18 [Epoch 42/100] [G loss: -69.7852554321289]\n",
      "2020/10/26 10:03:59 [Epoch 43/100] [G loss: -69.78392028808594]\n",
      "2020/10/26 10:04:40 [Epoch 44/100] [G loss: -69.78618621826172]\n",
      "2020/10/26 10:05:21 [Epoch 45/100] [G loss: -69.7864990234375]\n",
      "2020/10/26 10:06:02 [Epoch 46/100] [G loss: -69.78671264648438]\n",
      "2020/10/26 10:06:42 [Epoch 47/100] [G loss: -69.78659057617188]\n",
      "2020/10/26 10:07:23 [Epoch 48/100] [G loss: -69.78634643554688]\n",
      "2020/10/26 10:08:04 [Epoch 49/100] [G loss: -69.78453063964844]\n",
      "2020/10/26 10:08:45 [Epoch 50/100] [G loss: -69.7869873046875]\n",
      "2020/10/26 10:09:26 [Epoch 51/100] [G loss: -69.78742980957031]\n",
      "2020/10/26 10:10:07 [Epoch 52/100] [G loss: -69.78753662109375]\n",
      "2020/10/26 10:10:48 [Epoch 53/100] [G loss: -69.78695678710938]\n",
      "2020/10/26 10:11:29 [Epoch 54/100] [G loss: -69.78760528564453]\n",
      "2020/10/26 10:12:10 [Epoch 55/100] [G loss: -69.78706359863281]\n",
      "2020/10/26 10:12:50 [Epoch 56/100] [G loss: -69.78694152832031]\n",
      "2020/10/26 10:13:31 [Epoch 57/100] [G loss: -69.78802490234375]\n",
      "2020/10/26 10:14:12 [Epoch 58/100] [G loss: -69.78748321533203]\n",
      "2020/10/26 10:14:53 [Epoch 59/100] [G loss: -69.78588104248047]\n",
      "2020/10/26 10:15:34 [Epoch 60/100] [G loss: -69.78472137451172]\n",
      "2020/10/26 10:16:15 [Epoch 61/100] [G loss: -69.78645324707031]\n",
      "2020/10/26 10:16:56 [Epoch 62/100] [G loss: -69.78628540039062]\n",
      "2020/10/26 10:17:36 [Epoch 63/100] [G loss: -69.78804016113281]\n",
      "2020/10/26 10:18:17 [Epoch 64/100] [G loss: -69.78732299804688]\n",
      "2020/10/26 10:18:58 [Epoch 65/100] [G loss: -69.78707885742188]\n",
      "2020/10/26 10:19:39 [Epoch 66/100] [G loss: -69.78656005859375]\n",
      "2020/10/26 10:20:20 [Epoch 67/100] [G loss: -69.78778076171875]\n",
      "2020/10/26 10:21:01 [Epoch 68/100] [G loss: -69.78593444824219]\n",
      "2020/10/26 10:21:42 [Epoch 69/100] [G loss: -69.78724670410156]\n",
      "2020/10/26 10:22:23 [Epoch 70/100] [G loss: -69.78807067871094]\n",
      "2020/10/26 10:23:03 [Epoch 71/100] [G loss: -69.78778839111328]\n",
      "2020/10/26 10:23:44 [Epoch 72/100] [G loss: -69.7872543334961]\n",
      "2020/10/26 10:24:25 [Epoch 73/100] [G loss: -69.78828430175781]\n",
      "2020/10/26 10:25:06 [Epoch 74/100] [G loss: -69.7877197265625]\n",
      "2020/10/26 10:25:47 [Epoch 75/100] [G loss: -69.78733825683594]\n",
      "2020/10/26 10:26:28 [Epoch 76/100] [G loss: -69.78681945800781]\n",
      "2020/10/26 10:27:09 [Epoch 77/100] [G loss: -69.78742980957031]\n",
      "2020/10/26 10:27:50 [Epoch 78/100] [G loss: -69.7883071899414]\n",
      "2020/10/26 10:28:31 [Epoch 79/100] [G loss: -69.78630065917969]\n",
      "2020/10/26 10:29:11 [Epoch 80/100] [G loss: -69.7876205444336]\n",
      "2020/10/26 10:29:52 [Epoch 81/100] [G loss: -69.78860473632812]\n",
      "2020/10/26 10:30:33 [Epoch 82/100] [G loss: -69.78753662109375]\n",
      "2020/10/26 10:31:14 [Epoch 83/100] [G loss: -69.78901672363281]\n",
      "2020/10/26 10:31:55 [Epoch 84/100] [G loss: -69.78810119628906]\n",
      "2020/10/26 10:32:36 [Epoch 85/100] [G loss: -69.7877197265625]\n",
      "2020/10/26 10:33:17 [Epoch 86/100] [G loss: -69.78860473632812]\n",
      "2020/10/26 10:33:58 [Epoch 87/100] [G loss: -69.7873306274414]\n",
      "2020/10/26 10:36:41 [Epoch 91/100] [G loss: -69.7884521484375]\n",
      "2020/10/26 10:37:22 [Epoch 92/100] [G loss: -69.78820037841797]\n",
      "2020/10/26 10:38:03 [Epoch 93/100] [G loss: -69.78768157958984]\n",
      "2020/10/26 10:38:44 [Epoch 94/100] [G loss: -69.78878021240234]\n",
      "2020/10/26 10:39:25 [Epoch 95/100] [G loss: -69.78878784179688]\n",
      "2020/10/26 10:40:05 [Epoch 96/100] [G loss: -69.78912353515625]\n",
      "2020/10/26 10:40:46 [Epoch 97/100] [G loss: -69.7873764038086]\n",
      "2020/10/26 10:41:27 [Epoch 98/100] [G loss: -69.789306640625]\n",
      "2020/10/26 10:42:08 [Epoch 99/100] [G loss: -69.78926086425781]\n"
     ]
    }
   ],
   "source": [
    "g_losses = []\n",
    "n_epochs = 100\n",
    "for epoch in range(n_epochs):\n",
    "            \n",
    "        gs.reset_running_stats()\n",
    "\n",
    "        for i, (imgs, _) in enumerate(dataloader):\n",
    "\n",
    "            optimizer_G.zero_grad()\n",
    "\n",
    "            real_imgs = Variable(imgs).to(device)\n",
    "            z = next(gs)[:real_imgs.shape[0]]\n",
    "            fake_imgs = generator(z)\n",
    "            fake_validity = discriminator(fake_imgs)\n",
    "            g_loss = -torch.mean(fake_validity)\n",
    "\n",
    "            g_loss.backward()\n",
    "            optimizer_G.step()\n",
    "            \n",
    "        timestamp_now = datetime.now().strftime('%Y/%m/%d %H:%M:%S')\n",
    "        print_str = f\"{timestamp_now} [Epoch {epoch}/{n_epochs}] [G loss: {g_loss.item()}]\"\n",
    "        g_losses.append(g_loss.item())\n",
    "        print(print_str)"
   ]
  },
  {
   "cell_type": "code",
   "execution_count": 15,
   "metadata": {},
   "outputs": [],
   "source": [
    "d_save_path = 'memgan_d.pth'\n",
    "g_save_path = 'memgan_g.pth'\n",
    "torch.save(generator.state_dict(), g_save_path)\n",
    "torch.save(discriminator.state_dict(), d_save_path)"
   ]
  },
  {
   "cell_type": "code",
   "execution_count": 16,
   "metadata": {},
   "outputs": [
    {
     "name": "stdout",
     "output_type": "stream",
     "text": [
      "cifar10_test_md_distr.pdf            memgan_d.pth  mem_gan.ipynb\r\n",
      "eval_cifar10_train-test_distr.ipynb  memgan_g.pth\r\n"
     ]
    }
   ],
   "source": [
    "%ls"
   ]
  },
  {
   "cell_type": "markdown",
   "metadata": {},
   "source": [
    "#### sampled images and eval md + FID"
   ]
  },
  {
   "cell_type": "code",
   "execution_count": null,
   "metadata": {},
   "outputs": [],
   "source": []
  }
 ],
 "metadata": {
  "kernelspec": {
   "display_name": "Python 3",
   "language": "python",
   "name": "python3"
  },
  "language_info": {
   "codemirror_mode": {
    "name": "ipython",
    "version": 3
   },
   "file_extension": ".py",
   "mimetype": "text/x-python",
   "name": "python",
   "nbconvert_exporter": "python",
   "pygments_lexer": "ipython3",
   "version": "3.6.10"
  }
 },
 "nbformat": 4,
 "nbformat_minor": 4
}
